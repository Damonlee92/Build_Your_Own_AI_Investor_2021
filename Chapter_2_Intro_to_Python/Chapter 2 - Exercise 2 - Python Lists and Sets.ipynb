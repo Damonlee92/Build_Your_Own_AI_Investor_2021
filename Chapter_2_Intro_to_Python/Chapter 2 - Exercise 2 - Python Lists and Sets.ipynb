{
 "cells": [
  {
   "cell_type": "code",
   "execution_count": null,
   "metadata": {},
   "outputs": [],
   "source": [
    "# Code from Book: Build Your Own AI Investor\n",
    "# Damon Lee 2021\n",
    "# Check out the performance on www.valueinvestingai.com\n",
    "# Code uses data from the (presumably) nice people at https://simfin.com/. \n",
    "# Feel free to fork this code for others to see what can be done with it."
   ]
  },
  {
   "cell_type": "markdown",
   "metadata": {},
   "source": [
    "# Exercise 2 - Python Lists and Sets\n",
    "Chapter 2 intro to Python functions. Here Numpy is imported for me to use the exponential and logarithmic functions.\n",
    "## Lists\n",
    "Read through and execute these cells and see what the code does"
   ]
  },
  {
   "cell_type": "code",
   "execution_count": null,
   "metadata": {},
   "outputs": [],
   "source": [
    "# Code from Book: Build Your Own AI Investor\n",
    "# Damon Lee 2021\n",
    "# Check out the performance on www.valueinvestingai.com\n",
    "# Code uses data from the (presumably) nice people at https://simfin.com/. \n",
    "# Feel free to fork this code for others to see what can be done with it."
   ]
  },
  {
   "cell_type": "code",
   "execution_count": 5,
   "metadata": {},
   "outputs": [],
   "source": [
    "import numpy as np # Here numpy is imported as np so I can just type np. instead of the full numpy. when calling a function."
   ]
  },
  {
   "cell_type": "code",
   "execution_count": 35,
   "metadata": {},
   "outputs": [],
   "source": [
    "a = [1,2,3,4,5] # He's making a list,\n",
    "print(a)"
   ]
  },
  {
   "cell_type": "code",
   "execution_count": 36,
   "metadata": {},
   "outputs": [],
   "source": [
    "print(a) # He's checking it twice."
   ]
  },
  {
   "cell_type": "code",
   "execution_count": 37,
   "metadata": {},
   "outputs": [],
   "source": [
    "b = [1,2,3,4,6.4, True, False, 'Some Text']"
   ]
  },
  {
   "cell_type": "code",
   "execution_count": 38,
   "metadata": {},
   "outputs": [],
   "source": [
    "b"
   ]
  },
  {
   "cell_type": "code",
   "execution_count": 9,
   "metadata": {},
   "outputs": [],
   "source": [
    "c = a+b"
   ]
  },
  {
   "cell_type": "code",
   "execution_count": 39,
   "metadata": {},
   "outputs": [],
   "source": [
    "print(c)"
   ]
  },
  {
   "cell_type": "code",
   "execution_count": 40,
   "metadata": {},
   "outputs": [],
   "source": [
    "print('The second item in list c is:', c[1])"
   ]
  },
  {
   "cell_type": "code",
   "execution_count": 41,
   "metadata": {},
   "outputs": [],
   "source": [
    "print('The tenth item in list c is:', c[9])"
   ]
  },
  {
   "cell_type": "code",
   "execution_count": 42,
   "metadata": {},
   "outputs": [],
   "source": [
    "c[0:10] # See first 10 items in list"
   ]
  },
  {
   "cell_type": "code",
   "execution_count": 43,
   "metadata": {},
   "outputs": [],
   "source": [
    "c[0]=200\n",
    "print(c)"
   ]
  },
  {
   "cell_type": "code",
   "execution_count": 44,
   "metadata": {},
   "outputs": [],
   "source": [
    "print('The last item in list c is:', c[-1])"
   ]
  },
  {
   "cell_type": "code",
   "execution_count": 45,
   "metadata": {},
   "outputs": [],
   "source": [
    "my_length = len(c)\n",
    "print('The length of my list is: ', my_length)"
   ]
  },
  {
   "cell_type": "code",
   "execution_count": 46,
   "metadata": {},
   "outputs": [],
   "source": [
    "# Stocks list\n",
    "stocks = ['TSLA', 'BRKA', 'RDSA', 'AMD', 'MMM']\n",
    "print('Current stocks list: ', stocks)\n",
    "\n",
    "# 'TSLA' is removed\n",
    "stocks.remove('TSLA')\n",
    "\n",
    "# Updated stocks list\n",
    "print('Updated stocks list: ', stocks)"
   ]
  },
  {
   "cell_type": "code",
   "execution_count": 47,
   "metadata": {},
   "outputs": [],
   "source": [
    "#Add a new stock to end of list\n",
    "stocks.append('SAVE')\n",
    "print('Updated stocks list: ', stocks)"
   ]
  },
  {
   "cell_type": "code",
   "execution_count": 48,
   "metadata": {},
   "outputs": [],
   "source": [
    "print('My list: ', c) # take a look at the list"
   ]
  },
  {
   "cell_type": "markdown",
   "metadata": {},
   "source": [
    "## Tuples\n",
    "The same as lists, but they are immutable (you can't change them)"
   ]
  },
  {
   "cell_type": "code",
   "execution_count": 49,
   "metadata": {},
   "outputs": [],
   "source": [
    "my_tuple = (4, 5, 6, 7)\n",
    "print('My tuple: ', my_tuple)"
   ]
  },
  {
   "cell_type": "code",
   "execution_count": 50,
   "metadata": {},
   "outputs": [],
   "source": [
    "my_tuple[0] = 5 # Won't work, Tuples are immutable."
   ]
  },
  {
   "cell_type": "markdown",
   "metadata": {},
   "source": [
    "## Set Theory\n",
    "With Python sets we can do some set theory operations."
   ]
  },
  {
   "cell_type": "code",
   "execution_count": 23,
   "metadata": {},
   "outputs": [],
   "source": [
    "my_set = set(c)"
   ]
  },
  {
   "cell_type": "code",
   "execution_count": 51,
   "metadata": {},
   "outputs": [],
   "source": [
    "print('My set: ', ) # make a set based on the list. Now only unique items appear"
   ]
  },
  {
   "cell_type": "code",
   "execution_count": 57,
   "metadata": {},
   "outputs": [],
   "source": [
    "#Set A\n",
    "A = {'Cow', 'Cat', 'Dog', 'Rabbit', 'Sheep'}\n",
    "\n",
    "#Set B\n",
    "B = {'Cat', 'Dog', 'Squirrel', 'Fox'}"
   ]
  },
  {
   "cell_type": "code",
   "execution_count": 52,
   "metadata": {},
   "outputs": [],
   "source": [
    "#Calculating the Union of two sets\n",
    "U = A.union(B)\n",
    "print('The union of set A and set B is: ', U)"
   ]
  },
  {
   "cell_type": "code",
   "execution_count": 54,
   "metadata": {},
   "outputs": [],
   "source": [
    "#Calculating the Intersection of two sets\n",
    "n = A.intersection(B)\n",
    "print('The intersection of set A and set B is: ', n)"
   ]
  },
  {
   "cell_type": "code",
   "execution_count": 55,
   "metadata": {},
   "outputs": [],
   "source": [
    "#Calculating the difference of two sets\n",
    "d = A.difference(B)\n",
    "print('The difference of set A and set B is: ', d)"
   ]
  },
  {
   "cell_type": "markdown",
   "metadata": {},
   "source": [
    "# Exercise 2\n",
    "## Lists\n",
    "Some manipulation and accessing variables"
   ]
  },
  {
   "cell_type": "code",
   "execution_count": 67,
   "metadata": {},
   "outputs": [],
   "source": [
    "# Here's a list of lists.\n",
    "listOfBestLists = ['NYT best-sellers list', 'Santas list', 'Bucket list', 'Lloyds list', 'Listerine']\n",
    "# One of these lists is not in fact a list. Either remove it or substitute it with your own list."
   ]
  },
  {
   "cell_type": "code",
   "execution_count": 56,
   "metadata": {},
   "outputs": [],
   "source": [
    "# Print out the last item in the list:\n",
    "print(listOfBestLists[?])"
   ]
  },
  {
   "cell_type": "code",
   "execution_count": null,
   "metadata": {},
   "outputs": [],
   "source": [
    "# You can actually print out the second last item by asking for item -2.\n",
    "print(listOfBestLists[?])"
   ]
  },
  {
   "cell_type": "code",
   "execution_count": 68,
   "metadata": {},
   "outputs": [
    {
     "name": "stdout",
     "output_type": "stream",
     "text": [
      "First Two Items are: ['NYT best-sellers list', 'Santas list']\n"
     ]
    }
   ],
   "source": [
    "# You know you can access a range with the colon:, this quite versatile as you can leave a number out to slice lists.\n",
    "first_two_items = listOfBestLists[:2]\n",
    "print('First Two Items are: {}'.format(first_two_items))"
   ]
  },
  {
   "cell_type": "code",
   "execution_count": 69,
   "metadata": {},
   "outputs": [
    {
     "name": "stdout",
     "output_type": "stream",
     "text": [
      "First Two Items are: ['Bucket list', 'Lloyds list', 'Listerine']\n"
     ]
    }
   ],
   "source": [
    "third_to_end = listOfBestLists[2:]\n",
    "print('First Two Items are: {}'.format(third_to_end))"
   ]
  },
  {
   "cell_type": "code",
   "execution_count": 72,
   "metadata": {},
   "outputs": [
    {
     "name": "stdout",
     "output_type": "stream",
     "text": [
      "NYT best-sellers list , Santas list\n"
     ]
    }
   ],
   "source": [
    "# You can declare several variables directly form lists in one line.\n",
    "item1, item2 = listOfBestLists[:2]\n",
    "print(item1,',', item2)"
   ]
  },
  {
   "cell_type": "code",
   "execution_count": null,
   "metadata": {},
   "outputs": [],
   "source": [
    "list_1 = [1, 2, 3, 4, 5, 6, 7, 8, 9]\n",
    "# Print out the first 5 items\n",
    "print(list_1[?])"
   ]
  },
  {
   "cell_type": "code",
   "execution_count": null,
   "metadata": {},
   "outputs": [],
   "source": [
    "# Print out the last 3 items\n",
    "print(list_1[?])"
   ]
  },
  {
   "cell_type": "code",
   "execution_count": null,
   "metadata": {},
   "outputs": [],
   "source": [
    "# Print out items 3 to 6\n",
    "print(list_1[?])"
   ]
  },
  {
   "cell_type": "markdown",
   "metadata": {},
   "source": [
    "## All Set?\n",
    "Some code is missing, try fill it out to get it working again"
   ]
  },
  {
   "cell_type": "code",
   "execution_count": 82,
   "metadata": {},
   "outputs": [],
   "source": [
    "# Here is a list of stocks in my friends portfolio:\n",
    "friends_stock_list = ['F', 'AMD', 'GAW', 'TM17', 'DISH']"
   ]
  },
  {
   "cell_type": "code",
   "execution_count": 83,
   "metadata": {},
   "outputs": [],
   "source": [
    "# My friend added MSFT and AMZN stocks to his portfolio yesterday, make a list of those stocks.\n",
    "stocks_added_yesterday = ?"
   ]
  },
  {
   "cell_type": "code",
   "execution_count": 34,
   "metadata": {},
   "outputs": [],
   "source": [
    "# Combine both lists together to update his list oh current holdings.\n",
    "friends_stock_list = friends_stock_list + ?"
   ]
  },
  {
   "cell_type": "code",
   "execution_count": 85,
   "metadata": {},
   "outputs": [],
   "source": [
    "# He realises the list is incorrect, he sold Ford a sold long ago. correct the list by removing 'F'\n",
    "friends_stock_list.?"
   ]
  },
  {
   "cell_type": "code",
   "execution_count": 74,
   "metadata": {},
   "outputs": [],
   "source": [
    "# His sister also holds some stocks, here is the list of them:\n",
    "sisters_stocks_list = ['DIS', 'TM17', 'MMM', 'AMD']"
   ]
  },
  {
   "cell_type": "code",
   "execution_count": 77,
   "metadata": {},
   "outputs": [],
   "source": [
    "# We want to see what stocks they have in common (I know it's not many, imagine they contain 40+ each). \n",
    "# for each list create a corresponding set, and find their intersection.\n",
    "friends_stock_set = ?\n",
    "sisters_stocks_set = ?"
   ]
  },
  {
   "cell_type": "code",
   "execution_count": 79,
   "metadata": {},
   "outputs": [
    {
     "name": "stdout",
     "output_type": "stream",
     "text": [
      "Their common holdings are:  {'TM17', 'AMD'}\n"
     ]
    }
   ],
   "source": [
    "#print('Their common holdings are: ', friends_stock_set.?(sisters_stocks_set))"
   ]
  },
  {
   "cell_type": "code",
   "execution_count": 80,
   "metadata": {},
   "outputs": [
    {
     "name": "stdout",
     "output_type": "stream",
     "text": [
      "Their total holdings are:  {'TM17', 'AMD', 'MMM', 'DIS', 'AMZN', 'MSFT', 'GAW', 'DISH'}\n"
     ]
    }
   ],
   "source": [
    "# Let's see a complete set of all their holdings.\n",
    "print('Their total holdings are: ', friends_stock_set.?(sisters_stocks_set))"
   ]
  },
  {
   "cell_type": "code",
   "execution_count": null,
   "metadata": {},
   "outputs": [],
   "source": []
  }
 ],
 "metadata": {
  "kernelspec": {
   "display_name": "Python 3.7 (tensorflow)",
   "language": "python",
   "name": "tensorflow"
  },
  "language_info": {
   "codemirror_mode": {
    "name": "ipython",
    "version": 3
   },
   "file_extension": ".py",
   "mimetype": "text/x-python",
   "name": "python",
   "nbconvert_exporter": "python",
   "pygments_lexer": "ipython3",
   "version": "3.7.7"
  }
 },
 "nbformat": 4,
 "nbformat_minor": 4
}
